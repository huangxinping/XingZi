{
 "cells": [
  {
   "cell_type": "code",
   "execution_count": 4,
   "metadata": {
    "ExecuteTime": {
     "end_time": "2022-07-12T00:29:51.408888Z",
     "start_time": "2022-07-12T00:29:51.379020Z"
    }
   },
   "outputs": [],
   "source": [
    "import tensorflow as tf\n",
    "import numpy as np\n",
    "import os\n",
    "import matplotlib.pylab as plt\n",
    "\n",
    "from model.generator import FeatureTransferGenerator\n",
    "from model.model import FeatureTransfer\n",
    "\n",
    "%matplotlib inline"
   ]
  },
  {
   "cell_type": "markdown",
   "metadata": {},
   "source": [
    "# 训练特征迁移网络"
   ]
  },
  {
   "cell_type": "code",
   "execution_count": 5,
   "metadata": {
    "ExecuteTime": {
     "end_time": "2022-07-12T00:29:51.698066Z",
     "start_time": "2022-07-12T00:29:51.679146Z"
    }
   },
   "outputs": [],
   "source": [
    "batch_size = 16\n",
    "learning_rate = 0.0001\n",
    "epochs = 5000\n",
    "char_size = 80"
   ]
  },
  {
   "cell_type": "code",
   "execution_count": 6,
   "metadata": {
    "ExecuteTime": {
     "end_time": "2022-07-12T01:08:56.986719Z",
     "start_time": "2022-07-12T00:29:51.702045Z"
    }
   },
   "outputs": [
    {
     "name": "stdout",
     "output_type": "stream",
     "text": [
      "2528 images found in datasets/train\n",
      "Epoch 1/5000\n",
      "158/158 [==============================] - 116s 686ms/step - loss: 0.0783 - lr: 1.0000e-04\n",
      "Epoch 2/5000\n",
      "158/158 [==============================] - 51s 321ms/step - loss: 0.0783 - lr: 1.0000e-04\n",
      "Epoch 3/5000\n",
      "158/158 [==============================] - 51s 322ms/step - loss: 0.0782 - lr: 1.0000e-04\n",
      "Epoch 4/5000\n",
      "158/158 [==============================] - 50s 319ms/step - loss: 0.0783 - lr: 1.0000e-04\n",
      "Epoch 5/5000\n",
      "158/158 [==============================] - 49s 312ms/step - loss: 0.0783 - lr: 1.0000e-04\n",
      "Epoch 6/5000\n",
      "158/158 [==============================] - 50s 319ms/step - loss: 0.0781 - lr: 9.0000e-05\n",
      "Epoch 7/5000\n",
      "158/158 [==============================] - 51s 324ms/step - loss: 0.0778 - lr: 9.0000e-05\n",
      "Epoch 8/5000\n",
      "158/158 [==============================] - 51s 322ms/step - loss: 0.0778 - lr: 9.0000e-05\n",
      "Epoch 9/5000\n",
      "158/158 [==============================] - 51s 324ms/step - loss: 0.0779 - lr: 9.0000e-05\n",
      "Epoch 10/5000\n",
      "158/158 [==============================] - 50s 316ms/step - loss: 0.0775 - lr: 8.1000e-05\n",
      "Epoch 11/5000\n",
      "158/158 [==============================] - 49s 310ms/step - loss: 0.0774 - lr: 8.1000e-05\n",
      "Epoch 12/5000\n",
      "158/158 [==============================] - 49s 310ms/step - loss: 0.0773 - lr: 8.1000e-05\n",
      "Epoch 13/5000\n",
      "158/158 [==============================] - 49s 312ms/step - loss: 0.0771 - lr: 8.1000e-05\n",
      "Epoch 14/5000\n",
      "158/158 [==============================] - 51s 324ms/step - loss: 0.0772 - lr: 8.1000e-05\n",
      "Epoch 15/5000\n",
      "158/158 [==============================] - 50s 317ms/step - loss: 0.0770 - lr: 8.1000e-05\n",
      "Epoch 16/5000\n",
      "158/158 [==============================] - 50s 317ms/step - loss: 0.0769 - lr: 8.1000e-05\n",
      "Epoch 17/5000\n",
      "158/158 [==============================] - 49s 312ms/step - loss: 0.0766 - lr: 7.2900e-05\n",
      "Epoch 20/5000\n",
      "158/158 [==============================] - 50s 320ms/step - loss: 0.0765 - lr: 7.2900e-05\n",
      "Epoch 21/5000\n",
      "158/158 [==============================] - 50s 315ms/step - loss: 0.0765 - lr: 7.2900e-05\n",
      "Epoch 22/5000\n",
      "158/158 [==============================] - 51s 320ms/step - loss: 0.0764 - lr: 7.2900e-05\n",
      "Epoch 23/5000\n",
      "158/158 [==============================] - 51s 323ms/step - loss: 0.0762 - lr: 6.5610e-05\n",
      "Epoch 24/5000\n",
      "158/158 [==============================] - 51s 320ms/step - loss: 0.0761 - lr: 6.5610e-05\n",
      "Epoch 25/5000\n",
      "158/158 [==============================] - 51s 319ms/step - loss: 0.0761 - lr: 6.5610e-05\n",
      "Epoch 26/5000\n",
      "158/158 [==============================] - 51s 320ms/step - loss: 0.0759 - lr: 6.5610e-05\n",
      "Epoch 27/5000\n",
      "158/158 [==============================] - 50s 314ms/step - loss: 0.0759 - lr: 6.5610e-05\n",
      "Epoch 28/5000\n",
      "158/158 [==============================] - 51s 320ms/step - loss: 0.0758 - lr: 6.5610e-05\n",
      "Epoch 29/5000\n",
      "158/158 [==============================] - 49s 313ms/step - loss: 0.0758 - lr: 5.9049e-05\n",
      "Epoch 30/5000\n",
      "158/158 [==============================] - 50s 316ms/step - loss: 0.0756 - lr: 5.9049e-05\n",
      "Epoch 31/5000\n",
      "158/158 [==============================] - 50s 314ms/step - loss: 0.0755 - lr: 5.9049e-05\n",
      "Epoch 32/5000\n",
      "158/158 [==============================] - 52s 329ms/step - loss: 0.0755 - lr: 5.9049e-05\n",
      "Epoch 33/5000\n",
      "158/158 [==============================] - 51s 320ms/step - loss: 0.0753 - lr: 5.3144e-05\n",
      "Epoch 34/5000\n",
      "158/158 [==============================] - 50s 317ms/step - loss: 0.0752 - lr: 5.3144e-05\n",
      "Epoch 35/5000\n",
      "158/158 [==============================] - 51s 324ms/step - loss: 0.0752 - lr: 5.3144e-05\n",
      "Epoch 36/5000\n",
      "158/158 [==============================] - 52s 327ms/step - loss: 0.0751 - lr: 5.3144e-05\n",
      "Epoch 37/5000\n",
      "158/158 [==============================] - 50s 318ms/step - loss: 0.0752 - lr: 5.3144e-05\n",
      "Epoch 38/5000\n",
      "158/158 [==============================] - 53s 334ms/step - loss: 0.0750 - lr: 4.7830e-05\n",
      "Epoch 39/5000\n",
      "158/158 [==============================] - 51s 322ms/step - loss: 0.0749 - lr: 4.7830e-05\n",
      "Epoch 40/5000\n",
      "158/158 [==============================] - 52s 329ms/step - loss: 0.0748 - lr: 4.7830e-05\n",
      "Epoch 41/5000\n",
      "158/158 [==============================] - 50s 318ms/step - loss: 0.0749 - lr: 4.7830e-05\n",
      "Epoch 42/5000\n",
      "158/158 [==============================] - 50s 317ms/step - loss: 0.0747 - lr: 4.7830e-05\n",
      "Epoch 43/5000\n",
      "158/158 [==============================] - 52s 326ms/step - loss: 0.0748 - lr: 4.7830e-05\n",
      "Epoch 44/5000\n",
      "158/158 [==============================] - 52s 329ms/step - loss: 0.0747 - lr: 4.7830e-05\n",
      "Epoch 45/5000\n",
      "158/158 [==============================] - ETA: 0s - loss: 0.0747Restoring model weights from the end of the best epoch: 42.\n",
      "158/158 [==============================] - 50s 318ms/step - loss: 0.0747 - lr: 4.3047e-05\n",
      "Epoch 45: early stopping\n"
     ]
    }
   ],
   "source": [
    "gen = FeatureTransferGenerator(char_size=char_size, batch_size=batch_size, images_path='datasets/train')\n",
    "\n",
    "model = FeatureTransfer()\n",
    "model.compile(loss=tf.keras.losses.MeanAbsoluteError(), \n",
    "              optimizer=tf.keras.optimizers.Adam(learning_rate=learning_rate, amsgrad=True))\n",
    "if os.path.exists('transfer.h5'):\n",
    "    model.load_weights('transfer.h5')\n",
    "model.fit(gen,\n",
    "          epochs=epochs,\n",
    "          callbacks=[\n",
    "              tf.keras.callbacks.ReduceLROnPlateau(monitor='loss', factor=0.90, patience=2, mode='min'),\n",
    "              tf.keras.callbacks.EarlyStopping(monitor='loss', patience=3, restore_best_weights=True, mode='min', verbose=1)\n",
    "          ])\n",
    "model.save_weights('transfer.h5')"
   ]
  },
  {
   "cell_type": "code",
   "execution_count": null,
   "metadata": {},
   "outputs": [],
   "source": []
  }
 ],
 "metadata": {
  "hide_input": false,
  "kernelspec": {
   "display_name": "Python 3 (ipykernel)",
   "language": "python",
   "name": "python3"
  },
  "language_info": {
   "codemirror_mode": {
    "name": "ipython",
    "version": 3
   },
   "file_extension": ".py",
   "mimetype": "text/x-python",
   "name": "python",
   "nbconvert_exporter": "python",
   "pygments_lexer": "ipython3",
   "version": "3.9.7"
  },
  "latex_envs": {
   "LaTeX_envs_menu_present": true,
   "autoclose": false,
   "autocomplete": true,
   "bibliofile": "biblio.bib",
   "cite_by": "apalike",
   "current_citInitial": 1,
   "eqLabelWithNumbers": true,
   "eqNumInitial": 1,
   "hotkeys": {
    "equation": "Ctrl-E",
    "itemize": "Ctrl-I"
   },
   "labels_anchors": false,
   "latex_user_defs": false,
   "report_style_numbering": false,
   "user_envs_cfg": false
  },
  "toc": {
   "base_numbering": 1,
   "nav_menu": {},
   "number_sections": true,
   "sideBar": true,
   "skip_h1_title": false,
   "title_cell": "Table of Contents",
   "title_sidebar": "Contents",
   "toc_cell": false,
   "toc_position": {},
   "toc_section_display": true,
   "toc_window_display": false
  },
  "vscode": {
   "interpreter": {
    "hash": "c52302626cefc0a3d8a7dcef2f9b8af2b2cbed612fddde53f56bdae6cc08627a"
   }
  }
 },
 "nbformat": 4,
 "nbformat_minor": 2
}
